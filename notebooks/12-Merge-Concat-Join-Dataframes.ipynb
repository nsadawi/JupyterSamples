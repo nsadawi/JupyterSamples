{
 "cells": [
  {
   "cell_type": "code",
   "execution_count": null,
   "metadata": {},
   "outputs": [],
   "source": [
    "import pandas as pd"
   ]
  },
  {
   "cell_type": "code",
   "execution_count": null,
   "metadata": {},
   "outputs": [],
   "source": [
    "pd.__version__"
   ]
  },
  {
   "cell_type": "code",
   "execution_count": null,
   "metadata": {},
   "outputs": [],
   "source": [
    "raw_data1 = {\n",
    "    'id': [1,2,3,4,5],\n",
    "    'city': ['Tripoli', 'London', 'Rome', 'Cairo', 'Sydney'], \n",
    "    'rank': ['1st', '2nd', '3rd', '4th', '5th'], \n",
    "    'population': ['2M', '10M', '1M', '20M', '3M']\n",
    "}\n",
    "df1 = pd.DataFrame(raw_data1, columns = ['id', 'city', 'rank', 'population'])\n",
    "df1"
   ]
  },
  {
   "cell_type": "code",
   "execution_count": null,
   "metadata": {},
   "outputs": [],
   "source": [
    "raw_data2 = {\n",
    "    'id': [6,7,8,9],\n",
    "    'City': ['Lisbon', 'Tokyo', 'Mecca', 'Berlin'], \n",
    "    'Rank': ['19th', '22nd', '33rd', '40th'], \n",
    "    'population': ['1M', '9M', '0.8M', '7M']\n",
    "}\n",
    "df2 = pd.DataFrame(raw_data2, columns = ['id', 'City', 'Rank', 'population'])\n",
    "df2"
   ]
  },
  {
   "cell_type": "code",
   "execution_count": null,
   "metadata": {},
   "outputs": [],
   "source": [
    "raw_data3 = {\n",
    "    'seq': [1,4,8,9],\n",
    "    'city': ['Milano', 'Beijing', 'Addis Ababa','Belfast'], \n",
    "    'rank': ['7th', '6th', '21st', '11th']\n",
    "}\n",
    "df3 = pd.DataFrame(raw_data3, columns = ['seq', 'city', 'rank'])\n",
    "df3"
   ]
  },
  {
   "cell_type": "code",
   "execution_count": null,
   "metadata": {},
   "outputs": [],
   "source": [
    "## concat by default stacks tables (on top of each other) in the order you provide\n",
    "## pass the tables in a list .. pay attention to the index\n",
    "## to put tables next to each other .. set axis=1\n",
    "result = pd.concat([df1,df2,df3], ignore_index=True)\n",
    "result"
   ]
  },
  {
   "cell_type": "code",
   "execution_count": null,
   "metadata": {},
   "outputs": [],
   "source": [
    "## append only stacks tables .. works in two tables at a time\n",
    "## called from the DF object not from the pandas level\n",
    "new_df = df1.append(df2)"
   ]
  },
  {
   "cell_type": "code",
   "execution_count": null,
   "metadata": {},
   "outputs": [],
   "source": [
    "df2"
   ]
  },
  {
   "cell_type": "code",
   "execution_count": null,
   "metadata": {},
   "outputs": [],
   "source": [
    "pd.merge(df1,df2)"
   ]
  },
  {
   "cell_type": "code",
   "execution_count": null,
   "metadata": {},
   "outputs": [],
   "source": [
    "## pay attention to the indicator variable .. it gives info on\n",
    "## which table each row came from .. really useful\n",
    "pd.merge(df2,df3,how='outer',left_on='id',right_on='seq', \n",
    "         suffixes=('_left','_right'), indicator=True)\n"
   ]
  },
  {
   "cell_type": "code",
   "execution_count": null,
   "metadata": {},
   "outputs": [],
   "source": [
    "## pay attention to the indicator variable .. it gives info on\n",
    "## which table each row came from .. really useful\n",
    "pd.merge(df1,df3,how='outer',left_on='id',right_on='seq', \n",
    "         suffixes=('_left','_right'), indicator=True).query('_merge ==\"right_only\"')"
   ]
  },
  {
   "cell_type": "code",
   "execution_count": null,
   "metadata": {},
   "outputs": [],
   "source": [
    "df2"
   ]
  },
  {
   "cell_type": "code",
   "execution_count": null,
   "metadata": {},
   "outputs": [],
   "source": [
    "df1"
   ]
  },
  {
   "cell_type": "code",
   "execution_count": null,
   "metadata": {},
   "outputs": [],
   "source": [
    "#df1.join(df2,lsuffix='_L', rsuffix='_R', on='id')"
   ]
  },
  {
   "cell_type": "code",
   "execution_count": null,
   "metadata": {},
   "outputs": [],
   "source": [
    "df1"
   ]
  },
  {
   "cell_type": "code",
   "execution_count": null,
   "metadata": {},
   "outputs": [],
   "source": [
    "df2"
   ]
  },
  {
   "cell_type": "code",
   "execution_count": null,
   "metadata": {},
   "outputs": [],
   "source": []
  }
 ],
 "metadata": {
  "kernelspec": {
   "display_name": "Python 3",
   "language": "python",
   "name": "python3"
  },
  "language_info": {
   "codemirror_mode": {
    "name": "ipython",
    "version": 3
   },
   "file_extension": ".py",
   "mimetype": "text/x-python",
   "name": "python",
   "nbconvert_exporter": "python",
   "pygments_lexer": "ipython3",
   "version": "3.7.6"
  }
 },
 "nbformat": 4,
 "nbformat_minor": 4
}
