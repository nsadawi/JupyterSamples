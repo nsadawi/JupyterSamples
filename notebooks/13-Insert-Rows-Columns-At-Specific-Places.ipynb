{
 "cells": [
  {
   "cell_type": "code",
   "execution_count": null,
   "metadata": {},
   "outputs": [],
   "source": [
    "import pandas as pd"
   ]
  },
  {
   "cell_type": "code",
   "execution_count": null,
   "metadata": {},
   "outputs": [],
   "source": [
    "pd.__version__"
   ]
  },
  {
   "cell_type": "code",
   "execution_count": null,
   "metadata": {},
   "outputs": [],
   "source": [
    "raw_data1 = {\n",
    "    'id': [1,2,3,4,5],\n",
    "    'city': ['Tripoli', 'London', 'Rome', 'Cairo', 'Sydney'], \n",
    "    'rank': ['1st', '2nd', '3rd', '4th', '5th'], \n",
    "    'population': ['2M', '10M', '1M', '20M', '3M']\n",
    "}\n",
    "df1 = pd.DataFrame(raw_data1, columns = ['id', 'city', 'rank', 'population'])\n",
    "df1"
   ]
  },
  {
   "cell_type": "code",
   "execution_count": null,
   "metadata": {},
   "outputs": [],
   "source": [
    "raw_data1 = {\n",
    "    'id': [11,22],\n",
    "    'city': ['Leeds', 'Bath'], \n",
    "    'rank': ['1st', '2nd'], \n",
    "    'population': ['2M', '1M']\n",
    "}\n",
    "df2 = pd.DataFrame(raw_data1, columns = ['id', 'city', 'rank', 'population'])\n",
    "df2"
   ]
  },
  {
   "cell_type": "code",
   "execution_count": null,
   "metadata": {},
   "outputs": [],
   "source": [
    "## to add new rows at a specific location .. slice your DF at that location\n",
    "## and merge\n",
    "\n",
    "slice1 = df1.iloc[0:2,:]\n",
    "slice2 = df1.iloc[2:,:]\n"
   ]
  },
  {
   "cell_type": "code",
   "execution_count": null,
   "metadata": {},
   "outputs": [],
   "source": [
    "## you have two slices and the data you want to insert between them\n",
    "## use pandas' concat for that\n",
    "pd.concat([slice1, df2, slice2], ignore_index=True, axis=1)"
   ]
  },
  {
   "cell_type": "code",
   "execution_count": null,
   "metadata": {},
   "outputs": [],
   "source": [
    "# Insert column into DataFrame at specified location.\n",
    "df1.insert(2,'New_colns', col)"
   ]
  },
  {
   "cell_type": "code",
   "execution_count": null,
   "metadata": {},
   "outputs": [],
   "source": [
    "col = df1['population']"
   ]
  },
  {
   "cell_type": "code",
   "execution_count": null,
   "metadata": {},
   "outputs": [],
   "source": [
    "col"
   ]
  },
  {
   "cell_type": "code",
   "execution_count": null,
   "metadata": {},
   "outputs": [],
   "source": [
    "df1"
   ]
  },
  {
   "cell_type": "code",
   "execution_count": null,
   "metadata": {},
   "outputs": [],
   "source": []
  }
 ],
 "metadata": {
  "kernelspec": {
   "display_name": "Python 3",
   "language": "python",
   "name": "python3"
  },
  "language_info": {
   "codemirror_mode": {
    "name": "ipython",
    "version": 3
   },
   "file_extension": ".py",
   "mimetype": "text/x-python",
   "name": "python",
   "nbconvert_exporter": "python",
   "pygments_lexer": "ipython3",
   "version": "3.7.6"
  }
 },
 "nbformat": 4,
 "nbformat_minor": 4
}
